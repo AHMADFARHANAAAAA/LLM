{
 "cells": [
  {
   "cell_type": "code",
   "execution_count": null,
   "id": "678b7e5f",
   "metadata": {},
   "outputs": [
    {
     "name": "stdout",
     "output_type": "stream",
     "text": [
      "\n",
      "📄 File: translated_translated_الأربعون الشبابية.txt\n"
     ]
    },
    {
     "name": "stderr",
     "output_type": "stream",
     "text": [
      "Both `max_new_tokens` (=200) and `max_length`(=20) seem to have been set. `max_new_tokens` will take precedence. Please refer to the documentation for more information. (https://huggingface.co/docs/transformers/main/en/main_classes/text_generation)\n"
     ]
    },
    {
     "name": "stdout",
     "output_type": "stream",
     "text": [
      "\n",
      "Q: ما هو الإسلام\n",
      "A: \n",
      "\n",
      "📄 File: translated_translated_اللآليء المكية من كلام خير البرية.txt\n"
     ]
    },
    {
     "name": "stderr",
     "output_type": "stream",
     "text": [
      "Both `max_new_tokens` (=200) and `max_length`(=20) seem to have been set. `max_new_tokens` will take precedence. Please refer to the documentation for more information. (https://huggingface.co/docs/transformers/main/en/main_classes/text_generation)\n"
     ]
    },
    {
     "name": "stdout",
     "output_type": "stream",
     "text": [
      "\n",
      "Q: ما هو الإسلام\n",
      "A: \n",
      "\n",
      "📄 File: translated_translated_بداية القاري في ختم صحيح البخاري -.txt\n",
      "\n",
      "📄 File: translated_translated_تيسير اللطيف المنان في خلاصة تفسير القرآن - ط الأوقاف السعودية.txt\n",
      "\n",
      "📄 File: translated_الأربعون الشبابية.txt\n",
      "\n",
      "📄 File: translated_اللآليء المكية من كلام خير البرية.txt\n",
      "\n",
      "📄 File: translated_بداية القاري في ختم صحيح البخاري -.txt\n",
      "\n",
      "📄 File: translated_تيسير اللطيف المنان في خلاصة تفسير القرآن - ط الأوقاف السعودية.txt\n",
      "\n",
      "📄 File: translated_معالم السنة النبوية -.txt\n"
     ]
    }
   ],
   "source": [
    "import os\n",
    "from transformers import T5Tokenizer, T5ForConditionalGeneration, pipeline\n",
    "import torch\n",
    "\n",
    "# 1. Load FLAN-T5 Model\n",
    "def load_flan_model():\n",
    "    try:\n",
    "        device = \"cuda\" if torch.cuda.is_available() else \"cpu\"\n",
    "        model = T5ForConditionalGeneration.from_pretrained(\"google/flan-t5-base\").to(device)\n",
    "        tokenizer = T5Tokenizer.from_pretrained(\"google/flan-t5-base\")\n",
    "        return model, tokenizer, device\n",
    "    except Exception as e:\n",
    "        print(f\"[ERROR] Gagal load model: {e}\")\n",
    "        return None, None, None\n",
    "\n",
    "# 2. Aman dari token overflow\n",
    "def safe_generate(pipeline, question, context):\n",
    "    context = context[:100]  # Batasi karakter agar tidak melebihi token\n",
    "    input_text = f\"question: {question.strip()} context: {context.strip()}\"\n",
    "    try:\n",
    "        output = pipeline(\n",
    "            input_text,\n",
    "            max_new_tokens=100  # HANYA ini, jangan set max_length\n",
    "        )[0][\"generated_text\"]\n",
    "        return output\n",
    "    except Exception as e:\n",
    "        return f\"[ERROR] {e}\"\n",
    "\n",
    "# 3. Main Program\n",
    "def main():\n",
    "    processed_folder = \"processed\"\n",
    "    model, tokenizer, device = load_flan_model()\n",
    "    if model is None: return\n",
    "\n",
    "    qa_pipeline = pipeline(\n",
    "        \"text2text-generation\",\n",
    "        model=model,\n",
    "        tokenizer=tokenizer,\n",
    "        device=0 if device == \"cuda\" else -1\n",
    "    )\n",
    "\n",
    "    for file in os.listdir(processed_folder):\n",
    "        if not file.endswith(\".txt\"):\n",
    "            continue\n",
    "        \n",
    "        file_path = os.path.join(processed_folder, file)\n",
    "        with open(file_path, \"r\", encoding=\"utf-8\") as f:\n",
    "            text = f.read()\n",
    "\n",
    "        print(f\"\\n📄 File: {file}\")\n",
    "        user_input = input(\"💬 Masukkan pertanyaan (pisahkan dengan ; jika lebih dari satu):\\n\")\n",
    "        questions = [q.strip() for q in user_input.split(\";\") if q.strip()]\n",
    "\n",
    "        for question in questions:\n",
    "            answer = safe_generate(qa_pipeline, question, text)\n",
    "            print(f\"\\nQ: {question}\\nA: {answer}\")\n",
    "\n",
    "main()\n"
   ]
  }
 ],
 "metadata": {
  "kernelspec": {
   "display_name": ".venv",
   "language": "python",
   "name": "python3"
  },
  "language_info": {
   "codemirror_mode": {
    "name": "ipython",
    "version": 3
   },
   "file_extension": ".py",
   "mimetype": "text/x-python",
   "name": "python",
   "nbconvert_exporter": "python",
   "pygments_lexer": "ipython3",
   "version": "3.11.4"
  }
 },
 "nbformat": 4,
 "nbformat_minor": 5
}
